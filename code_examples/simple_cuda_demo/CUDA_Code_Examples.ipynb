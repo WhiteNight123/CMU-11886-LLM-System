{
  "cells": [
    {
      "cell_type": "markdown",
      "metadata": {},
      "source": [
        "## GPU Programming: Perform vector and matrix operations in CUDA"
      ]
    },
    {
      "cell_type": "markdown",
      "metadata": {},
      "source": [
        "### Section1: Compile and Run CUDA Code\n",
        "\n",
        "We will implment a program to add two vectors in cuda. \n",
        "The following code snippt is from `example_vector_add.cu`. \n",
        "\n",
        "```cpp\n",
        "\n",
        "__global__ void VecAddKernel(int* A, int* B, int* C, int n) {\n",
        "  // blockDim is size of block along x-axis\n",
        "  // blockIdx is the index of the current thread's block\n",
        "  // threadIdx is the index of the current thread within the block\n",
        "  int i = blockDim.x * blockIdx.x + threadIdx.x;\n",
        "  if (i < n) {\n",
        "    C[i] = A[i] + B[i];\n",
        "  }\n",
        "}\n",
        "\n",
        "```\n",
        "\n",
        "Please check the full code in `example_vector_add.cu`. \n",
        "\n",
        "Run the following command: "
      ]
    },
    {
      "cell_type": "code",
      "execution_count": 3,
      "metadata": {},
      "outputs": [],
      "source": [
        "# Remove ! if running on the terminal of your vm\n",
        "# Compile the codes for matrix addition\n",
        "!nvcc -o vecadd example_vector_add.cu"
      ]
    },
    {
      "cell_type": "markdown",
      "metadata": {},
      "source": [
        "Run the following command to check the result: "
      ]
    },
    {
      "cell_type": "code",
      "execution_count": 4,
      "metadata": {},
      "outputs": [
        {
          "name": "stdout",
          "output_type": "stream",
          "text": [
            "Vector add verified! COMPLETED SUCCESSFULLY\n"
          ]
        }
      ],
      "source": [
        "!./vecadd"
      ]
    },
    {
      "cell_type": "markdown",
      "metadata": {},
      "source": [
        "In `example_matadd.cu` and `example_matmul2.cu`, there are example codes for matrix addition and matrix multiplication. \n",
        "\n",
        "The following code snippets are from `example_matadd.cu` to perform matrix multiplication:\n",
        "\n",
        "```cpp\n",
        "\n",
        "__global__ void matrixAdd(const int * a, const int * b,\n",
        "                          int * c, int N) {\n",
        "  // Compute each thread's global row and column index\n",
        "  int row = blockIdx.x * blockDim.x + threadIdx.x;\n",
        "  int col = blockIdx.y * blockDim.y + threadIdx.y;\n",
        "  \n",
        "  // Iterate over row, and down column\n",
        "  if (row < N && col < N) {\n",
        "    c[row * N + col] = a[row * N + col] + b[row * N + col];\n",
        "  }\n",
        "}\n",
        "\n",
        "```\n",
        "\n",
        "Run the following command to check the results."
      ]
    },
    {
      "cell_type": "code",
      "execution_count": 5,
      "metadata": {},
      "outputs": [],
      "source": [
        "# Remove ! if running on the terminal of your vm\n",
        "# Compile the codes for matrix addition\n",
        "!nvcc -o matadd example_matadd.cu"
      ]
    },
    {
      "cell_type": "code",
      "execution_count": 6,
      "metadata": {},
      "outputs": [
        {
          "name": "stdout",
          "output_type": "stream",
          "text": [
            "COMPLETED SUCCESSFULLY\n"
          ]
        }
      ],
      "source": [
        "# Run the codes\n",
        "!./matadd"
      ]
    },
    {
      "cell_type": "markdown",
      "metadata": {},
      "source": [
        "The following code snippets illustrate the multiplication of two matrices. \n",
        "\n",
        "```c++\n",
        "\n",
        "__global__ void MatmulKernel(const float* a, const float* b, float* out, \n",
        "                             int M, int N, int P) {\n",
        "  // Compute each thread's global row and column index\n",
        "  int idx = threadIdx.x + blockIdx.x * blockDim.x;\n",
        "  if (idx >= M * P) return;\n",
        "  int row = idx / P;\n",
        "  int col = idx % P;\n",
        "  if (row < M && col < P) {\n",
        "    // Calculate the matrix multiplication for row in matrix a and col in matrix b\n",
        "    float sum = 0.0;\n",
        "    for (int i = 0; i < N; i++) {\n",
        "      sum += a[row * N + i] * b[i * P + col];\n",
        "    }\n",
        "    out[row * P + col] = sum;\n",
        "  }\n",
        "}\n",
        "\n",
        "```\n",
        "\n",
        "```c++\n",
        "__global__ void MatmulKernel(const int *a, const int *b, int *c, int M, int N, int P) {\n",
        "  // Compute each thread's global row and column index\n",
        "  int row = blockIdx.x * blockDim.x + threadIdx.x;\n",
        "  int col = blockIdx.y * blockDim.y + threadIdx.y;\n",
        "  if (row >= M || col >= P) return;\n",
        "  // Iterate over row, and down column\n",
        "  c[row * P + col] = 0;\n",
        "  for (int k = 0; k < N; k++) {\n",
        "    // Accumulate results for a single element\n",
        "    c[row * P + col] += a[row * N + k] * b[k * P + col];\n",
        "  }\n",
        "}\n",
        "```"
      ]
    },
    {
      "cell_type": "markdown",
      "metadata": {},
      "source": [
        "Run the following command. "
      ]
    },
    {
      "cell_type": "code",
      "execution_count": 7,
      "metadata": {},
      "outputs": [],
      "source": [
        "# Compile the codes for matrix addition\n",
        "!nvcc -o matmul example_matmul2.cu"
      ]
    },
    {
      "cell_type": "code",
      "execution_count": 8,
      "metadata": {},
      "outputs": [
        {
          "name": "stdout",
          "output_type": "stream",
          "text": [
            "COMPLETED SUCCESSFULLY\n"
          ]
        }
      ],
      "source": [
        "# Run the codes\n",
        "!./matmul"
      ]
    },
    {
      "cell_type": "markdown",
      "metadata": {},
      "source": [
        "### Section2: Run CUDA Codes with Python Calls\n",
        "\n",
        "This section shows three demos, including the vector addition, window summation and matrix multiplication implemented in CUDA. We call these CUDA functions within the python codes, which follows the same recipe in our assignment1."
      ]
    },
    {
      "cell_type": "markdown",
      "metadata": {},
      "source": [
        "## CUDA Example for Vector Add\n",
        "\n",
        "We demonstrate how we can call C function in python file with ctypes with `VecAddCPU` function.\n",
        "\n",
        "We also demonstrate two ways to write CUDA codes which can be called in python functions. The difference between them is that we create CUDA memory and copy the data to CUDA device by `pycuda` package in the `VecAddCUDA` function and `cudaMemcpy` in cpp codes in `VecAddCUDA2` function.\n",
        "\n",
        "We use `pycuda` in assignment1 to call CUDA kernel functions."
      ]
    },
    {
      "cell_type": "code",
      "execution_count": 9,
      "metadata": {},
      "outputs": [],
      "source": [
        "!nvcc -o vector_add.so --shared example_vector_add.cu -Xcompiler -fPIC"
      ]
    },
    {
      "cell_type": "markdown",
      "metadata": {},
      "source": [
        "```python\n",
        "# Define the argument types and return types\n",
        "lib.VecAddCUDA.argtypes = [\n",
        "    ctypes.POINTER(ctypes.c_int),\n",
        "    ctypes.POINTER(ctypes.c_int),\n",
        "    ctypes.POINTER(ctypes.c_int),\n",
        "    ctypes.c_int,\n",
        "]\n",
        "\n",
        "lib.VecAddCUDA.restype = None\n",
        "\n",
        "# Load the arrays to CUDA device\n",
        "a_gpu = gpuarray.to_gpu(a)\n",
        "b_gpu = gpuarray.to_gpu(b)\n",
        "c_gpu = gpuarray.to_gpu(cgpu)\n",
        "\n",
        "# Call the C wrapper function with CUDA kernel\n",
        "lib.VecAddCUDA(\n",
        "    ctypes.cast(a_gpu.ptr, ctypes.POINTER(ctypes.c_int)),\n",
        "    ctypes.cast(b_gpu.ptr, ctypes.POINTER(ctypes.c_int)),\n",
        "    ctypes.cast(c_gpu.ptr, ctypes.POINTER(ctypes.c_int)),\n",
        "    ctypes.c_int(size)\n",
        ")\n",
        "\n",
        "# Load the gpuarray back to array in the host device\n",
        "cgpu = c_gpu.get()\n",
        "print(f\"After offload: {cgpu}, {type(cgpu)}\")\n",
        "```"
      ]
    },
    {
      "cell_type": "code",
      "execution_count": 10,
      "metadata": {},
      "outputs": [
        {
          "name": "stdout",
          "output_type": "stream",
          "text": [
            "Input a: [9 7 1 4 1 4 2 1 6 1]\n",
            "Input b: [8 7 6 8 8 7 1 2 9 2]\n",
            "Numpy add: [17 14  7 12  9 11  3  3 15  3], <class 'numpy.ndarray'>\n",
            "CPU add: [17 14  7 12  9 11  3  3 15  3], <class 'numpy.ndarray'>\n",
            "GPU add: [17 14  7 12  9 11  3  3 15  3], <class 'pycuda.gpuarray.GPUArray'>\n",
            "After offload: [17 14  7 12  9 11  3  3 15  3], <class 'numpy.ndarray'>\n",
            "GPU add2: [17 14  7 12  9 11  3  3 15  3], <class 'numpy.ndarray'>\n"
          ]
        }
      ],
      "source": [
        "!python test_vector_add.py"
      ]
    },
    {
      "cell_type": "markdown",
      "metadata": {},
      "source": [
        "## CUDA Example for Window Sum\n",
        "\n",
        "Demo of Window Sum to get to know about synchronization in CUDA."
      ]
    },
    {
      "cell_type": "code",
      "execution_count": 11,
      "metadata": {},
      "outputs": [],
      "source": [
        "!nvcc -o window_sum.so --shared example_window_sum.cu -Xcompiler -fPIC"
      ]
    },
    {
      "cell_type": "code",
      "execution_count": 12,
      "metadata": {},
      "outputs": [
        {
          "name": "stdout",
          "output_type": "stream",
          "text": [
            "Input: [ 1.  2.  3.  4.  5.  6.  7.  8.  9. 10. 11. 12.]\n",
            "Numpy window sum: [15. 20. 25. 30. 35. 40. 45. 50.]\n",
            "GPU simple window sum: [15. 20. 25. 30. 35. 40. 45. 50.]\n",
            "GPU shared window sum: [15. 20. 25. 30. 35. 40. 45. 50.]\n"
          ]
        }
      ],
      "source": [
        "!python test_window_sum.py"
      ]
    },
    {
      "cell_type": "markdown",
      "metadata": {},
      "source": [
        "## CUDA Example for Matrix Multiplication\n",
        "\n",
        "Demo of matrix multiplication."
      ]
    },
    {
      "cell_type": "code",
      "execution_count": 13,
      "metadata": {},
      "outputs": [],
      "source": [
        "!nvcc -o matmul.so --shared example_matmul.cu -Xcompiler -fPIC"
      ]
    },
    {
      "cell_type": "code",
      "execution_count": 14,
      "metadata": {},
      "outputs": [
        {
          "name": "stdout",
          "output_type": "stream",
          "text": [
            "Input a: [[1. 2. 2. 1.]\n",
            " [2. 2. 2. 2.]\n",
            " [2. 2. 2. 1.]\n",
            " [1. 2. 1. 1.]]\n",
            "Input b: [[1. 1.]\n",
            " [1. 2.]\n",
            " [1. 2.]\n",
            " [2. 1.]]\n",
            "Numpy matmul: [[ 7. 10.]\n",
            " [10. 12.]\n",
            " [ 8. 11.]\n",
            " [ 6.  8.]], <class 'numpy.ndarray'>\n",
            "GPU matmul: [[ 7. 10.]\n",
            " [10. 12.]\n",
            " [ 8. 11.]\n",
            " [ 6.  8.]], <class 'pycuda.gpuarray.GPUArray'>\n",
            "After offload: [[ 7. 10.]\n",
            " [10. 12.]\n",
            " [ 8. 11.]\n",
            " [ 6.  8.]], <class 'numpy.ndarray'>\n",
            "Compare result: 0.0\n"
          ]
        }
      ],
      "source": [
        "!python test_matmul.py"
      ]
    }
  ],
  "metadata": {
    "accelerator": "GPU",
    "colab": {
      "gpuType": "T4",
      "provenance": []
    },
    "kernelspec": {
      "display_name": "minitorch",
      "language": "python",
      "name": "python3"
    },
    "language_info": {
      "codemirror_mode": {
        "name": "ipython",
        "version": 3
      },
      "file_extension": ".py",
      "mimetype": "text/x-python",
      "name": "python",
      "nbconvert_exporter": "python",
      "pygments_lexer": "ipython3",
      "version": "3.9.23"
    }
  },
  "nbformat": 4,
  "nbformat_minor": 0
}
